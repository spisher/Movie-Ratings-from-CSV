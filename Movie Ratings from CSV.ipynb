{
 "cells": [
  {
   "cell_type": "code",
   "execution_count": 1,
   "id": "658e3a0a",
   "metadata": {},
   "outputs": [],
   "source": [
    "import numpy as np"
   ]
  },
  {
   "cell_type": "code",
   "execution_count": 6,
   "id": "ce9b2a9c",
   "metadata": {},
   "outputs": [],
   "source": [
    "data=np.genfromtxt('E:/Rating.CSV',delimiter=\",\",skip_header=1,dtype=str)"
   ]
  },
  {
   "cell_type": "code",
   "execution_count": null,
   "id": "e63712f3",
   "metadata": {},
   "outputs": [
    {
     "name": "stdout",
     "output_type": "stream",
     "text": [
      "movies are:  ['Titanic' 'Avengers: Endgame' 'The Dark Knight' 'La La Land'\n",
      " 'Interstellar' 'Gladiator' 'The Notebook' 'Dune' 'Mad Max: Fury Road'\n",
      " 'Her' 'The Matrix' 'John Wick' 'A Walk to Remember' 'Edge of Tomorrow']\n"
     ]
    }
   ],
   "source": [
    "movie_names=data[:,0]\n",
    "print(\"movies are: \",movie_names)\n"
   ]
  },
  {
   "cell_type": "code",
   "execution_count": 11,
   "id": "55da11df",
   "metadata": {},
   "outputs": [],
   "source": [
    "movie_years=data[:,1].astype(int)"
   ]
  },
  {
   "cell_type": "code",
   "execution_count": 12,
   "id": "0fa310ba",
   "metadata": {},
   "outputs": [],
   "source": [
    "movie_genres=data[:,2]"
   ]
  },
  {
   "cell_type": "code",
   "execution_count": 40,
   "id": "32277e77",
   "metadata": {},
   "outputs": [
    {
     "name": "stdout",
     "output_type": "stream",
     "text": [
      "the average rating of all movies are:  8.171428571428573\n",
      "the standard deviation of all movies are:  0.40783149781771977\n"
     ]
    }
   ],
   "source": [
    "movie_ratings=data[:,3].astype(float)\n",
    "print(\"the average rating of all movies are: \",np.mean(movie_ratings))\n",
    "print(\"the standard deviation of all movies are: \",np.std(movie_ratings))"
   ]
  },
  {
   "cell_type": "code",
   "execution_count": 41,
   "id": "05bd396f",
   "metadata": {},
   "outputs": [
    {
     "name": "stdout",
     "output_type": "stream",
     "text": [
      "action movies are:  [['Avengers: Endgame' '2019' 'Action' '8.4']\n",
      " ['The Dark Knight' '2008' 'Action' '9.0']\n",
      " ['Gladiator' '2000' 'Action' '8.5']\n",
      " ['Mad Max: Fury Road' '2015' 'Action' '8.1']\n",
      " ['John Wick' '2014' 'Action' '7.9']]\n",
      "romance movies are:  [['Titanic' '1997' 'Romance' '7.8']\n",
      " ['La La Land' '2016' 'Romance' '8.0']\n",
      " ['The Notebook' '2004' 'Romance' '7.9']\n",
      " ['Her' '2013' 'Romance' '8.0']\n",
      " ['A Walk to Remember' '2002' 'Romance' '7.4']]\n",
      "sci-fi movies are:  [['Interstellar' '2014' 'Sci-Fi' '8.6']\n",
      " ['Dune' '2021' 'Sci-Fi' '8.2']\n",
      " ['The Matrix' '1999' 'Sci-Fi' '8.7']\n",
      " ['Edge of Tomorrow' '2014' 'Sci-Fi' '7.9']]\n"
     ]
    }
   ],
   "source": [
    "action=movie_genres==\"Action\"\n",
    "action_movies=data[action]\n",
    "print(\"action movies are: \",action_movies)\n",
    "\n",
    "romance=movie_genres==\"Romance\"\n",
    "romance_movies=data[romance]\n",
    "print(\"romance movies are: \",romance_movies)\n",
    "\n",
    "sci_fi=movie_genres==\"Sci-Fi\"\n",
    "sci_fi_movies=data[sci_fi]\n",
    "print(\"sci-fi movies are: \",sci_fi_movies)\n",
    "\n"
   ]
  },
  {
   "cell_type": "code",
   "execution_count": 42,
   "id": "0aab821d",
   "metadata": {},
   "outputs": [
    {
     "name": "stdout",
     "output_type": "stream",
     "text": [
      "the best action movie is:  ['The Dark Knight' '2008' 'Action' '9.0']\n"
     ]
    }
   ],
   "source": [
    "best_action=np.argmax(action_movies[:,3])\n",
    "print(\"the best action movie is: \",action_movies[best_action])"
   ]
  },
  {
   "cell_type": "code",
   "execution_count": 43,
   "id": "5ef55ce6",
   "metadata": {},
   "outputs": [
    {
     "name": "stdout",
     "output_type": "stream",
     "text": [
      "the best romance movie is:  ['La La Land' '2016' 'Romance' '8.0']\n"
     ]
    }
   ],
   "source": [
    "best_romance=np.argmax(romance_movies[:,3])\n",
    "print(\"the best romance movie is: \",romance_movies[best_romance])"
   ]
  },
  {
   "cell_type": "code",
   "execution_count": 44,
   "id": "5a49be3c",
   "metadata": {},
   "outputs": [
    {
     "name": "stdout",
     "output_type": "stream",
     "text": [
      "the best sci-fi movie is:  ['Interstellar' '2014' 'Sci-Fi' '8.6']\n"
     ]
    }
   ],
   "source": [
    "best_sci_fi=np.argmax(sci_fi_movies[0,3])\n",
    "print(\"the best sci-fi movie is: \",sci_fi_movies[best_sci_fi])"
   ]
  }
 ],
 "metadata": {
  "kernelspec": {
   "display_name": "Python 3",
   "language": "python",
   "name": "python3"
  },
  "language_info": {
   "codemirror_mode": {
    "name": "ipython",
    "version": 3
   },
   "file_extension": ".py",
   "mimetype": "text/x-python",
   "name": "python",
   "nbconvert_exporter": "python",
   "pygments_lexer": "ipython3",
   "version": "3.13.5"
  }
 },
 "nbformat": 4,
 "nbformat_minor": 5
}
